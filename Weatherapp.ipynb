{
  "nbformat": 4,
  "nbformat_minor": 0,
  "metadata": {
    "colab": {
      "provenance": [],
      "authorship_tag": "ABX9TyPvXfJVYlSMkT4V8I7t6pAC",
      "include_colab_link": true
    },
    "kernelspec": {
      "name": "python3",
      "display_name": "Python 3"
    },
    "language_info": {
      "name": "python"
    }
  },
  "cells": [
    {
      "cell_type": "markdown",
      "metadata": {
        "id": "view-in-github",
        "colab_type": "text"
      },
      "source": [
        "<a href=\"https://colab.research.google.com/github/Jaswanth021/Python-programming/blob/main/Weatherapp.ipynb\" target=\"_parent\"><img src=\"https://colab.research.google.com/assets/colab-badge.svg\" alt=\"Open In Colab\"/></a>"
      ]
    },
    {
      "cell_type": "code",
      "execution_count": 1,
      "metadata": {
        "colab": {
          "base_uri": "https://localhost:8080/"
        },
        "id": "P81-L4ooe-cs",
        "outputId": "ef1d4761-02f1-4b22-8894-7ebee6a2e085"
      },
      "outputs": [
        {
          "output_type": "stream",
          "name": "stdout",
          "text": [
            "Enter City:Anakapalle\n",
            "The weather in Anakapalle is: Clouds\n",
            "The temperature in Anakapalle is: 90°F\n"
          ]
        }
      ],
      "source": [
        "import requests\n",
        "\n",
        "api_key = '4f719df8e7d441f37b1176c29c4a23db'\n",
        "\n",
        "User_input = input(\"Enter City:\")\n",
        "\n",
        "weather_data = requests.get(f\"https://api.openweathermap.org/data/2.5/weather?q={User_input}&units=imperial&APPID={api_key}\")\n",
        "\n",
        "if weather_data.json()['cod'] == '404':\n",
        "    print(\"No City Found\")\n",
        "else:\n",
        "    weather = weather_data.json()['weather'][0]['main']\n",
        "    temp = round(weather_data.json()['main']['temp'])\n",
        "\n",
        "    print(f\"The weather in {User_input} is: {weather}\")\n",
        "    print(f\"The temperature in {User_input} is: {temp}°F\")"
      ]
    }
  ]
}